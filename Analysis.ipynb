{
 "cells": [
  {
   "cell_type": "markdown",
   "metadata": {},
   "source": [
    "# Data Analysis"
   ]
  },
  {
   "cell_type": "markdown",
   "metadata": {},
   "source": [
    "In this notebook, we examine the data that we retrieved with various calculations and plots. "
   ]
  },
  {
   "cell_type": "code",
   "execution_count": 1,
   "metadata": {
    "collapsed": false
   },
   "outputs": [
    {
     "data": {
      "text/html": [
       "<script>requirejs.config({paths: { 'plotly': ['https://cdn.plot.ly/plotly-latest.min']},});if(!window.Plotly) {{require(['plotly'],function(plotly) {window.Plotly=plotly;});}}</script>"
      ],
      "text/vnd.plotly.v1+html": [
       "<script>requirejs.config({paths: { 'plotly': ['https://cdn.plot.ly/plotly-latest.min']},});if(!window.Plotly) {{require(['plotly'],function(plotly) {window.Plotly=plotly;});}}</script>"
      ]
     },
     "metadata": {},
     "output_type": "display_data"
    }
   ],
   "source": [
    "import numpy as np\n",
    "import pandas as pd\n",
    "import requests\n",
    "import plotly.offline as py\n",
    "import matplotlib.pyplot as plt\n",
    "from plotly.graph_objs import *\n",
    "from sklearn.linear_model import LinearRegression, LogisticRegression\n",
    "from sklearn.neighbors import KNeighborsRegressor\n",
    "from sklearn.model_selection import cross_val_score\n",
    "from sklearn.cluster import KMeans\n",
    "from bs4 import BeautifulSoup\n",
    "%matplotlib inline\n",
    "pd.set_option(\"max_r\", 15)\n",
    "py.init_notebook_mode(connected=True)"
   ]
  },
  {
   "cell_type": "markdown",
   "metadata": {},
   "source": [
    "# Predicting Wins"
   ]
  },
  {
   "cell_type": "markdown",
   "metadata": {},
   "source": [
    "We wanted to see how the teams would have performed if the swaps we made had actually happened. The way to measure performance is with number of wins, which leaves us with the question: given various data (such as runs, at bats, strike outs, etc.), can we predict the number of wins a team would have had?"
   ]
  },
  {
   "cell_type": "markdown",
   "metadata": {},
   "source": [
    "After research, we concluded that the Pythagorean expectation could give us a good estimate of how many wins a team would have.\n",
    "\n",
    "Invented by Bill James, the Pythagorean expectation uses the basic formula: \n",
    "\n",
    "$${\\displaystyle \\mathrm {Win\\ Ratio} ={\\frac {{\\text{runs scored}}^{2}}{{\\text{runs scored}}^{2}+{\\text{runs allowed}}^{2}}}={\\frac {1}{1+({\\text{runs allowed}}/{\\text{runs scored}})^{2}}}}$$"
   ]
  },
  {
   "cell_type": "markdown",
   "metadata": {},
   "source": [
    "When applying this formula for our data, we faced a limitation, where we were not able to account for differences in runs allowed with the new player swapped in. This is the case because runs allowed are dependent on the defense as a whole, not the individual players.\n",
    "\n",
    "Before proceeding, we researched Sweeney and Jeter and discovered that both players are Golden Glove award-winners (strong defensively). We therefore decided that it is safe to assume that they make an equivalent defensive contribution. Thus we've concluded the best way to go about our analyses is to focus on changes in offensive performances."
   ]
  },
  {
   "cell_type": "code",
   "execution_count": 2,
   "metadata": {
    "collapsed": false
   },
   "outputs": [],
   "source": [
    "# read in CSVs\n",
    "dataNYY = pd.read_csv(\"nyy.csv\")\n",
    "dataKCR = pd.read_csv(\"kcr.csv\")\n",
    "nyy_links = pd.read_csv(\"nyy_links.csv\")\n",
    "kcr_links = pd.read_csv(\"kcr_links.csv\")\n",
    "jeter_in_kcr = pd.read_csv(\"jeter_in_KCR.csv\")\n",
    "sweeney_in_nyy = pd.read_csv(\"sweeney_in_NYY.csv\")"
   ]
  },
  {
   "cell_type": "code",
   "execution_count": 3,
   "metadata": {
    "collapsed": true
   },
   "outputs": [],
   "source": [
    "# function that performs the pythagorean expectation\n",
    "def calc_win_ratio(r, ra):\n",
    "    return (r**2) / (r**2 + ra**2)"
   ]
  },
  {
   "cell_type": "code",
   "execution_count": 4,
   "metadata": {
    "collapsed": false
   },
   "outputs": [],
   "source": [
    "# Calculate the win ratio for each year.\n",
    "runs_allowed_nyy = dataNYY.groupby(\"year\")['runs_allowed'].mean()\n",
    "runs_allowed_kcr = dataKCR.groupby(\"year\")['runs_allowed'].mean()\n",
    "runs_scored_nyy = dataNYY.groupby(\"year\")['R'].sum()\n",
    "runs_scored_kcr = dataKCR.groupby(\"year\")['R'].sum()\n",
    "\n",
    "# we multiplied by 162 because 162 games are played in the season\n",
    "expected_wins_nyy = calc_win_ratio(runs_scored_nyy, runs_allowed_nyy) * 162\n",
    "expected_wins_nyy = pd.DataFrame(expected_wins_nyy).reset_index()\n",
    "expected_wins_kcr = calc_win_ratio(runs_scored_kcr, runs_allowed_kcr) * 162\n",
    "expected_wins_kcr = pd.DataFrame(expected_wins_kcr).reset_index()"
   ]
  },
  {
   "cell_type": "code",
   "execution_count": 5,
   "metadata": {
    "collapsed": false
   },
   "outputs": [],
   "source": [
    "# we chose >= 1995 because thats when both players joined the league (and thats when they were supposed to be traded)\n",
    "nyy_yw = nyy_links[[\"year\",\"wins\"]]\n",
    "nyy_yw = nyy_yw[nyy_yw.year >= 1995]\n",
    "kcr_yw = kcr_links[[\"year\",\"wins\"]]\n",
    "kcr_yw = kcr_yw[kcr_yw.year >= 1995]"
   ]
  },
  {
   "cell_type": "markdown",
   "metadata": {},
   "source": [
    "Now, we will examine the efficacy of the Pythagorean Expectation in predicting the number of wins. We will do so by plotting the wins that the Pythagorean Expectation predicted for each year as well as the actual wins for that year."
   ]
  },
  {
   "cell_type": "code",
   "execution_count": 6,
   "metadata": {
    "collapsed": false,
    "scrolled": false
   },
   "outputs": [
    {
     "data": {
      "application/vnd.plotly.v1+json": {
       "data": [
        {
         "line": {
          "color": "rgb(0,0,255)"
         },
         "name": "Actual Wins",
         "type": "scatter",
         "x": [
          2016,
          2015,
          2014,
          2013,
          2012,
          2011,
          2010,
          2009,
          2008,
          2007,
          2006,
          2005,
          2004,
          2003,
          2002,
          2001,
          2000,
          1999,
          1998,
          1997,
          1996,
          1995
         ],
         "y": [
          84,
          87,
          84,
          85,
          95,
          97,
          95,
          103,
          89,
          94,
          97,
          95,
          101,
          101,
          103,
          95,
          87,
          98,
          114,
          96,
          92,
          79
         ]
        },
        {
         "line": {
          "color": "rgb(255,0,0)"
         },
         "name": "Predicted Wins",
         "type": "scatter",
         "x": [
          1995,
          1996,
          1997,
          1998,
          1999,
          2000,
          2001,
          2002,
          2003,
          2004,
          2005,
          2006,
          2007,
          2008,
          2009,
          2010,
          2011,
          2012,
          2013,
          2014,
          2015,
          2016
         ],
         "y": [
          87.86445721688605,
          89.18646599081283,
          101.48846653120007,
          110.79815740903271,
          97.60771102404786,
          86.47385481802121,
          90.68302064886538,
          101.01119017248674,
          97.2073304025246,
          89.4333260376007,
          90.35013573548314,
          96.41815345423066,
          98.52188378020357,
          87.61426697363278,
          96.58678681758168,
          98.13133409406221,
          102.906876986964,
          95.84070874212915,
          78.42532893493029,
          77.13019837568397,
          88.29839574189933,
          78.42178215334107
         ]
        }
       ],
       "layout": {
        "title": "Efficacy of Pythagorean Expectation (NYY)",
        "xaxis": {
         "title": "Year"
        },
        "yaxis": {
         "title": "Number of Wins"
        }
       }
      },
      "text/html": [
       "<div id=\"3a333f5c-fa28-4273-ab42-813daec83edb\" style=\"height: 525px; width: 100%;\" class=\"plotly-graph-div\"></div><script type=\"text/javascript\">require([\"plotly\"], function(Plotly) { window.PLOTLYENV=window.PLOTLYENV || {};window.PLOTLYENV.BASE_URL=\"https://plot.ly\";Plotly.newPlot(\"3a333f5c-fa28-4273-ab42-813daec83edb\", [{\"y\": [84, 87, 84, 85, 95, 97, 95, 103, 89, 94, 97, 95, 101, 101, 103, 95, 87, 98, 114, 96, 92, 79], \"type\": \"scatter\", \"line\": {\"color\": \"rgb(0,0,255)\"}, \"name\": \"Actual Wins\", \"x\": [2016, 2015, 2014, 2013, 2012, 2011, 2010, 2009, 2008, 2007, 2006, 2005, 2004, 2003, 2002, 2001, 2000, 1999, 1998, 1997, 1996, 1995]}, {\"y\": [87.86445721688605, 89.18646599081283, 101.48846653120007, 110.79815740903271, 97.60771102404786, 86.47385481802121, 90.68302064886538, 101.01119017248674, 97.2073304025246, 89.4333260376007, 90.35013573548314, 96.41815345423066, 98.52188378020357, 87.61426697363278, 96.58678681758168, 98.13133409406221, 102.906876986964, 95.84070874212915, 78.42532893493029, 77.13019837568397, 88.29839574189933, 78.42178215334107], \"type\": \"scatter\", \"line\": {\"color\": \"rgb(255,0,0)\"}, \"name\": \"Predicted Wins\", \"x\": [1995, 1996, 1997, 1998, 1999, 2000, 2001, 2002, 2003, 2004, 2005, 2006, 2007, 2008, 2009, 2010, 2011, 2012, 2013, 2014, 2015, 2016]}], {\"xaxis\": {\"title\": \"Year\"}, \"title\": \"Efficacy of Pythagorean Expectation (NYY)\", \"yaxis\": {\"title\": \"Number of Wins\"}}, {\"linkText\": \"Export to plot.ly\", \"showLink\": true})});</script>"
      ],
      "text/vnd.plotly.v1+html": [
       "<div id=\"3a333f5c-fa28-4273-ab42-813daec83edb\" style=\"height: 525px; width: 100%;\" class=\"plotly-graph-div\"></div><script type=\"text/javascript\">require([\"plotly\"], function(Plotly) { window.PLOTLYENV=window.PLOTLYENV || {};window.PLOTLYENV.BASE_URL=\"https://plot.ly\";Plotly.newPlot(\"3a333f5c-fa28-4273-ab42-813daec83edb\", [{\"y\": [84, 87, 84, 85, 95, 97, 95, 103, 89, 94, 97, 95, 101, 101, 103, 95, 87, 98, 114, 96, 92, 79], \"type\": \"scatter\", \"line\": {\"color\": \"rgb(0,0,255)\"}, \"name\": \"Actual Wins\", \"x\": [2016, 2015, 2014, 2013, 2012, 2011, 2010, 2009, 2008, 2007, 2006, 2005, 2004, 2003, 2002, 2001, 2000, 1999, 1998, 1997, 1996, 1995]}, {\"y\": [87.86445721688605, 89.18646599081283, 101.48846653120007, 110.79815740903271, 97.60771102404786, 86.47385481802121, 90.68302064886538, 101.01119017248674, 97.2073304025246, 89.4333260376007, 90.35013573548314, 96.41815345423066, 98.52188378020357, 87.61426697363278, 96.58678681758168, 98.13133409406221, 102.906876986964, 95.84070874212915, 78.42532893493029, 77.13019837568397, 88.29839574189933, 78.42178215334107], \"type\": \"scatter\", \"line\": {\"color\": \"rgb(255,0,0)\"}, \"name\": \"Predicted Wins\", \"x\": [1995, 1996, 1997, 1998, 1999, 2000, 2001, 2002, 2003, 2004, 2005, 2006, 2007, 2008, 2009, 2010, 2011, 2012, 2013, 2014, 2015, 2016]}], {\"xaxis\": {\"title\": \"Year\"}, \"title\": \"Efficacy of Pythagorean Expectation (NYY)\", \"yaxis\": {\"title\": \"Number of Wins\"}}, {\"linkText\": \"Export to plot.ly\", \"showLink\": true})});</script>"
      ]
     },
     "metadata": {},
     "output_type": "display_data"
    }
   ],
   "source": [
    "# Plotly: show how close Pythagorean Expectation is to real-life win results.\n",
    "trace0 = Scatter(\n",
    "    x = nyy_yw['year'],\n",
    "    y = nyy_yw['wins'],\n",
    "    name = \"Actual Wins\",\n",
    "    line = dict(\n",
    "        color = ('rgb(0,0,255)'),\n",
    "    )\n",
    ")\n",
    "trace1 = Scatter(\n",
    "    x = expected_wins_nyy['year'],\n",
    "    y = expected_wins_nyy[0],\n",
    "    name = \"Predicted Wins\",\n",
    "    line = dict(\n",
    "        color = ('rgb(255,0,0)')\n",
    "    )\n",
    ")\n",
    "\n",
    "traces = [trace0,trace1]\n",
    "\n",
    "layout = dict(\n",
    "    title = \"Efficacy of Pythagorean Expectation (NYY)\",\n",
    "    xaxis = dict(title = \"Year\"),\n",
    "    yaxis = dict(title = \"Number of Wins\")\n",
    ")\n",
    "\n",
    "fig = dict(data = traces, layout = layout)\n",
    "py.iplot(fig)"
   ]
  },
  {
   "cell_type": "code",
   "execution_count": 7,
   "metadata": {
    "collapsed": false
   },
   "outputs": [
    {
     "data": {
      "application/vnd.plotly.v1+json": {
       "data": [
        {
         "line": {
          "color": "rgb(0,0,0)"
         },
         "name": "Actual Wins",
         "type": "scatter",
         "x": [
          2016,
          2015,
          2014,
          2013,
          2012,
          2011,
          2010,
          2009,
          2008,
          2007,
          2006,
          2005,
          2004,
          2003,
          2002,
          2001,
          2000,
          1999,
          1998,
          1997,
          1996,
          1995
         ],
         "y": [
          81,
          95,
          89,
          86,
          72,
          71,
          67,
          65,
          75,
          69,
          62,
          56,
          58,
          83,
          62,
          65,
          77,
          64,
          72,
          67,
          75,
          70
         ]
        },
        {
         "line": {
          "color": "rgb(51,204,255)"
         },
         "name": "Predicted Wins",
         "type": "scatter",
         "x": [
          1995,
          1996,
          1997,
          1998,
          1999,
          2000,
          2001,
          2002,
          2003,
          2004,
          2005,
          2006,
          2007,
          2008,
          2009,
          2010,
          2011,
          2012,
          2013,
          2014,
          2015,
          2016
         ],
         "y": [
          73.40765895258623,
          76.77311651418022,
          73.46943821119645,
          62.660955980931675,
          75.0822004368185,
          76.43646296489676,
          67.91819375909688,
          65.81158371040725,
          78.05206313314973,
          62.79290427500607,
          58.29338486525594,
          61.24055043571763,
          73.15861993983981,
          71.13199784448274,
          64.63134728203737,
          63.21951219512195,
          77.52706673467775,
          73.04459433325572,
          87.08745687199544,
          84.42905050192024,
          90.8142626599234,
          76.68151581860626
         ]
        }
       ],
       "layout": {
        "title": "Efficacy of Pythagorean Expectation (KCR)",
        "xaxis": {
         "title": "Year"
        },
        "yaxis": {
         "title": "Number of Wins"
        }
       }
      },
      "text/html": [
       "<div id=\"4c6accbb-f719-4289-a13d-3c833c4b8f9f\" style=\"height: 525px; width: 100%;\" class=\"plotly-graph-div\"></div><script type=\"text/javascript\">require([\"plotly\"], function(Plotly) { window.PLOTLYENV=window.PLOTLYENV || {};window.PLOTLYENV.BASE_URL=\"https://plot.ly\";Plotly.newPlot(\"4c6accbb-f719-4289-a13d-3c833c4b8f9f\", [{\"y\": [81, 95, 89, 86, 72, 71, 67, 65, 75, 69, 62, 56, 58, 83, 62, 65, 77, 64, 72, 67, 75, 70], \"type\": \"scatter\", \"line\": {\"color\": \"rgb(0,0,0)\"}, \"name\": \"Actual Wins\", \"x\": [2016, 2015, 2014, 2013, 2012, 2011, 2010, 2009, 2008, 2007, 2006, 2005, 2004, 2003, 2002, 2001, 2000, 1999, 1998, 1997, 1996, 1995]}, {\"y\": [73.40765895258623, 76.77311651418022, 73.46943821119645, 62.660955980931675, 75.0822004368185, 76.43646296489676, 67.91819375909688, 65.81158371040725, 78.05206313314973, 62.79290427500607, 58.29338486525594, 61.24055043571763, 73.15861993983981, 71.13199784448274, 64.63134728203737, 63.21951219512195, 77.52706673467775, 73.04459433325572, 87.08745687199544, 84.42905050192024, 90.8142626599234, 76.68151581860626], \"type\": \"scatter\", \"line\": {\"color\": \"rgb(51,204,255)\"}, \"name\": \"Predicted Wins\", \"x\": [1995, 1996, 1997, 1998, 1999, 2000, 2001, 2002, 2003, 2004, 2005, 2006, 2007, 2008, 2009, 2010, 2011, 2012, 2013, 2014, 2015, 2016]}], {\"xaxis\": {\"title\": \"Year\"}, \"title\": \"Efficacy of Pythagorean Expectation (KCR)\", \"yaxis\": {\"title\": \"Number of Wins\"}}, {\"linkText\": \"Export to plot.ly\", \"showLink\": true})});</script>"
      ],
      "text/vnd.plotly.v1+html": [
       "<div id=\"4c6accbb-f719-4289-a13d-3c833c4b8f9f\" style=\"height: 525px; width: 100%;\" class=\"plotly-graph-div\"></div><script type=\"text/javascript\">require([\"plotly\"], function(Plotly) { window.PLOTLYENV=window.PLOTLYENV || {};window.PLOTLYENV.BASE_URL=\"https://plot.ly\";Plotly.newPlot(\"4c6accbb-f719-4289-a13d-3c833c4b8f9f\", [{\"y\": [81, 95, 89, 86, 72, 71, 67, 65, 75, 69, 62, 56, 58, 83, 62, 65, 77, 64, 72, 67, 75, 70], \"type\": \"scatter\", \"line\": {\"color\": \"rgb(0,0,0)\"}, \"name\": \"Actual Wins\", \"x\": [2016, 2015, 2014, 2013, 2012, 2011, 2010, 2009, 2008, 2007, 2006, 2005, 2004, 2003, 2002, 2001, 2000, 1999, 1998, 1997, 1996, 1995]}, {\"y\": [73.40765895258623, 76.77311651418022, 73.46943821119645, 62.660955980931675, 75.0822004368185, 76.43646296489676, 67.91819375909688, 65.81158371040725, 78.05206313314973, 62.79290427500607, 58.29338486525594, 61.24055043571763, 73.15861993983981, 71.13199784448274, 64.63134728203737, 63.21951219512195, 77.52706673467775, 73.04459433325572, 87.08745687199544, 84.42905050192024, 90.8142626599234, 76.68151581860626], \"type\": \"scatter\", \"line\": {\"color\": \"rgb(51,204,255)\"}, \"name\": \"Predicted Wins\", \"x\": [1995, 1996, 1997, 1998, 1999, 2000, 2001, 2002, 2003, 2004, 2005, 2006, 2007, 2008, 2009, 2010, 2011, 2012, 2013, 2014, 2015, 2016]}], {\"xaxis\": {\"title\": \"Year\"}, \"title\": \"Efficacy of Pythagorean Expectation (KCR)\", \"yaxis\": {\"title\": \"Number of Wins\"}}, {\"linkText\": \"Export to plot.ly\", \"showLink\": true})});</script>"
      ]
     },
     "metadata": {},
     "output_type": "display_data"
    }
   ],
   "source": [
    "# Plotly: show how close Pythagorean Expectation is to real-life results for other team.\n",
    "trace0 = Scatter(\n",
    "    x = kcr_yw['year'],\n",
    "    y = kcr_yw['wins'],\n",
    "    name = \"Actual Wins\",\n",
    "    line = dict(\n",
    "        color = ('rgb(0,0,0)'),\n",
    "    )\n",
    ")\n",
    "trace1 = Scatter(\n",
    "    x = expected_wins_kcr['year'],\n",
    "    y = expected_wins_kcr[0],\n",
    "    name = \"Predicted Wins\",\n",
    "    line = dict(\n",
    "        color = ('rgb(51,204,255)')\n",
    "    )\n",
    ")\n",
    "\n",
    "traces = [trace0,trace1]\n",
    "\n",
    "layout = dict(\n",
    "    title = \"Efficacy of Pythagorean Expectation (KCR)\",\n",
    "    xaxis = dict(title = \"Year\"),\n",
    "    yaxis = dict(title = \"Number of Wins\")\n",
    ")\n",
    "\n",
    "fig = dict(data = traces, layout = layout)\n",
    "py.iplot(fig)"
   ]
  },
  {
   "cell_type": "markdown",
   "metadata": {},
   "source": [
    "Examining the difference (residuals) in actual and predicted number of wins. The error in the Pythagorean expectation is also known as the Pythagorean Luck."
   ]
  },
  {
   "cell_type": "code",
   "execution_count": 8,
   "metadata": {
    "collapsed": false,
    "scrolled": false
   },
   "outputs": [
    {
     "data": {
      "application/vnd.plotly.v1+json": {
       "data": [
        {
         "name": "NYY",
         "type": "bar",
         "x": [
          1995,
          1996,
          1997,
          1998,
          1999,
          2000,
          2001,
          2002,
          2003,
          2004,
          2005,
          2006,
          2007,
          2008,
          2009,
          2010,
          2011,
          2012,
          2013,
          2014,
          2015,
          2016
         ],
         "y": [
          3.864457216886052,
          2.1864659908128345,
          17.488466531200075,
          25.79815740903271,
          2.607711024047859,
          10.52614518197879,
          4.31697935113462,
          1.9888098275132648,
          8.207330402524605,
          4.566673962399307,
          6.649864264516864,
          1.4181534542306622,
          2.4781162197964335,
          13.38573302636722,
          6.413213182418318,
          3.131334094062211,
          15.906876986963994,
          2.159291257870848,
          35.57467106506971,
          18.869801624316025,
          3.701604258100673,
          0.5782178466589301
         ]
        },
        {
         "marker": {
          "color": "rgb(51,204,255)"
         },
         "name": "KCR",
         "type": "bar",
         "x": [
          1995,
          1996,
          1997,
          1998,
          1999,
          2000,
          2001,
          2002,
          2003,
          2004,
          2005,
          2006,
          2007,
          2008,
          2009,
          2010,
          2011,
          2012,
          2013,
          2014,
          2015,
          2016
         ],
         "y": [
          7.592341047413768,
          18.226883485819783,
          15.530561788803553,
          23.339044019068325,
          3.0822004368184963,
          5.436462964896762,
          0.9181937590968801,
          0.8115837104072483,
          3.05206313314973,
          6.207095724993927,
          3.7066151347440623,
          5.24055043571763,
          15.15861993983981,
          11.86800215551726,
          2.6313472820373676,
          1.7804878048780495,
          0.5270667346777458,
          9.044594333255716,
          15.087456871995442,
          17.429050501920244,
          15.8142626599234,
          6.6815158186062575
         ]
        }
       ],
       "layout": {
        "barmode": "group",
        "title": "Error in Pythagorean Expectation (Pythagorean Luck)",
        "xaxis": {
         "title": "Year"
        },
        "yaxis": {
         "title": "Difference in Actual & Predicted Number of Wins"
        }
       }
      },
      "text/html": [
       "<div id=\"72796be7-5154-4434-b221-996132ed4072\" style=\"height: 525px; width: 100%;\" class=\"plotly-graph-div\"></div><script type=\"text/javascript\">require([\"plotly\"], function(Plotly) { window.PLOTLYENV=window.PLOTLYENV || {};window.PLOTLYENV.BASE_URL=\"https://plot.ly\";Plotly.newPlot(\"72796be7-5154-4434-b221-996132ed4072\", [{\"y\": [3.864457216886052, 2.1864659908128345, 17.488466531200075, 25.79815740903271, 2.607711024047859, 10.52614518197879, 4.31697935113462, 1.9888098275132648, 8.207330402524605, 4.566673962399307, 6.649864264516864, 1.4181534542306622, 2.4781162197964335, 13.38573302636722, 6.413213182418318, 3.131334094062211, 15.906876986963994, 2.159291257870848, 35.57467106506971, 18.869801624316025, 3.701604258100673, 0.5782178466589301], \"type\": \"bar\", \"name\": \"NYY\", \"x\": [1995, 1996, 1997, 1998, 1999, 2000, 2001, 2002, 2003, 2004, 2005, 2006, 2007, 2008, 2009, 2010, 2011, 2012, 2013, 2014, 2015, 2016]}, {\"y\": [7.592341047413768, 18.226883485819783, 15.530561788803553, 23.339044019068325, 3.0822004368184963, 5.436462964896762, 0.9181937590968801, 0.8115837104072483, 3.05206313314973, 6.207095724993927, 3.7066151347440623, 5.24055043571763, 15.15861993983981, 11.86800215551726, 2.6313472820373676, 1.7804878048780495, 0.5270667346777458, 9.044594333255716, 15.087456871995442, 17.429050501920244, 15.8142626599234, 6.6815158186062575], \"type\": \"bar\", \"marker\": {\"color\": \"rgb(51,204,255)\"}, \"name\": \"KCR\", \"x\": [1995, 1996, 1997, 1998, 1999, 2000, 2001, 2002, 2003, 2004, 2005, 2006, 2007, 2008, 2009, 2010, 2011, 2012, 2013, 2014, 2015, 2016]}], {\"xaxis\": {\"title\": \"Year\"}, \"title\": \"Error in Pythagorean Expectation (Pythagorean Luck)\", \"yaxis\": {\"title\": \"Difference in Actual & Predicted Number of Wins\"}, \"barmode\": \"group\"}, {\"linkText\": \"Export to plot.ly\", \"showLink\": true})});</script>"
      ],
      "text/vnd.plotly.v1+html": [
       "<div id=\"72796be7-5154-4434-b221-996132ed4072\" style=\"height: 525px; width: 100%;\" class=\"plotly-graph-div\"></div><script type=\"text/javascript\">require([\"plotly\"], function(Plotly) { window.PLOTLYENV=window.PLOTLYENV || {};window.PLOTLYENV.BASE_URL=\"https://plot.ly\";Plotly.newPlot(\"72796be7-5154-4434-b221-996132ed4072\", [{\"y\": [3.864457216886052, 2.1864659908128345, 17.488466531200075, 25.79815740903271, 2.607711024047859, 10.52614518197879, 4.31697935113462, 1.9888098275132648, 8.207330402524605, 4.566673962399307, 6.649864264516864, 1.4181534542306622, 2.4781162197964335, 13.38573302636722, 6.413213182418318, 3.131334094062211, 15.906876986963994, 2.159291257870848, 35.57467106506971, 18.869801624316025, 3.701604258100673, 0.5782178466589301], \"type\": \"bar\", \"name\": \"NYY\", \"x\": [1995, 1996, 1997, 1998, 1999, 2000, 2001, 2002, 2003, 2004, 2005, 2006, 2007, 2008, 2009, 2010, 2011, 2012, 2013, 2014, 2015, 2016]}, {\"y\": [7.592341047413768, 18.226883485819783, 15.530561788803553, 23.339044019068325, 3.0822004368184963, 5.436462964896762, 0.9181937590968801, 0.8115837104072483, 3.05206313314973, 6.207095724993927, 3.7066151347440623, 5.24055043571763, 15.15861993983981, 11.86800215551726, 2.6313472820373676, 1.7804878048780495, 0.5270667346777458, 9.044594333255716, 15.087456871995442, 17.429050501920244, 15.8142626599234, 6.6815158186062575], \"type\": \"bar\", \"marker\": {\"color\": \"rgb(51,204,255)\"}, \"name\": \"KCR\", \"x\": [1995, 1996, 1997, 1998, 1999, 2000, 2001, 2002, 2003, 2004, 2005, 2006, 2007, 2008, 2009, 2010, 2011, 2012, 2013, 2014, 2015, 2016]}], {\"xaxis\": {\"title\": \"Year\"}, \"title\": \"Error in Pythagorean Expectation (Pythagorean Luck)\", \"yaxis\": {\"title\": \"Difference in Actual & Predicted Number of Wins\"}, \"barmode\": \"group\"}, {\"linkText\": \"Export to plot.ly\", \"showLink\": true})});</script>"
      ]
     },
     "metadata": {},
     "output_type": "display_data"
    }
   ],
   "source": [
    "# Data on the error at each year.\n",
    "diffs = abs(expected_wins_nyy[0] - nyy_yw['wins'])\n",
    "expected_wins_nyy[\"diff\"] = diffs\n",
    "diffs = abs(expected_wins_kcr[0] - kcr_yw['wins'])\n",
    "expected_wins_kcr['diff'] = diffs\n",
    "\n",
    "trace0 = Bar(\n",
    "    x = expected_wins_nyy['year'],\n",
    "    y = expected_wins_nyy['diff'],\n",
    "    name = 'NYY'\n",
    ")\n",
    "\n",
    "trace1 = Bar(\n",
    "    x = expected_wins_kcr['year'],\n",
    "    y = expected_wins_kcr['diff'],\n",
    "    name = 'KCR',\n",
    "    marker=dict(\n",
    "        color = ('rgb(51,204,255)')\n",
    "    )\n",
    ")\n",
    "\n",
    "traces = [trace0, trace1]\n",
    "layout = Layout(\n",
    "    title = \"Error in Pythagorean Expectation (Pythagorean Luck)\",\n",
    "    barmode = \"group\",\n",
    "    xaxis = dict(title = \"Year\"),\n",
    "    yaxis = dict(title = \"Difference in Actual & Predicted Number of Wins\")\n",
    ")\n",
    "\n",
    "fig = Figure(data=traces, layout=layout)\n",
    "py.iplot(fig)"
   ]
  },
  {
   "cell_type": "markdown",
   "metadata": {},
   "source": [
    "Mean differences between actual and predicted number of wins for each team:"
   ]
  },
  {
   "cell_type": "code",
   "execution_count": 9,
   "metadata": {
    "collapsed": false,
    "scrolled": false
   },
   "outputs": [
    {
     "data": {
      "text/plain": [
       "(8.719003371722819, 8.598454533799156)"
      ]
     },
     "execution_count": 9,
     "metadata": {},
     "output_type": "execute_result"
    }
   ],
   "source": [
    "# Mean differences between actual and predicted number of wins for each team.\n",
    "expected_wins_nyy['diff'].mean(), expected_wins_kcr['diff'].mean()"
   ]
  },
  {
   "cell_type": "code",
   "execution_count": 10,
   "metadata": {
    "collapsed": false
   },
   "outputs": [],
   "source": [
    "jeter_in_kcr = jeter_in_kcr.sort_values(by=\"year\")\n",
    "sweeney_in_nyy = sweeney_in_nyy.sort_values(by=\"year\")"
   ]
  },
  {
   "cell_type": "markdown",
   "metadata": {},
   "source": [
    "Now that we have examined the accuracy of the Pythagorean Expectation on the actual data, we have concluded that it will provide relatively accurate data for predicting how the teams would have performed with the trades. "
   ]
  },
  {
   "cell_type": "code",
   "execution_count": 11,
   "metadata": {
    "collapsed": false
   },
   "outputs": [],
   "source": [
    "# Mike Sweeney was on the Royals from 1995-2007.\n",
    "dfj = jeter_in_kcr[jeter_in_kcr.year <= 2007]\n",
    "dfs = sweeney_in_nyy[sweeney_in_nyy.year <= 2007]"
   ]
  },
  {
   "cell_type": "code",
   "execution_count": 12,
   "metadata": {
    "collapsed": false
   },
   "outputs": [],
   "source": [
    "# Calculate the win ratio for each year if the players were traded.\n",
    "# Runs-allowed limitation applies here.\n",
    "# When we swapped the players, each player's \"runs_allowed\" column still had the value from their old team\n",
    "# therefore, we are not going to recalculate the \"runs_allowed\" during the swap, because we want each team\n",
    "# to keep their original runs allowed despite the switch.\n",
    "runs_allowed_dfj = dataKCR.groupby(\"year\")['runs_allowed'].mean()\n",
    "runs_allowed_dfs = dataNYY.groupby(\"year\")['runs_allowed'].mean()\n",
    "runs_scored_dfj = dfj.groupby(\"year\")['R'].sum()\n",
    "runs_scored_dfs = dfs.groupby(\"year\")['R'].sum()"
   ]
  },
  {
   "cell_type": "code",
   "execution_count": 13,
   "metadata": {
    "collapsed": false
   },
   "outputs": [],
   "source": [
    "expected_wins_dfj = calc_win_ratio(runs_scored_dfj, runs_allowed_dfj) * 162\n",
    "expected_wins_dfj = pd.DataFrame(expected_wins_dfj).reset_index()\n",
    "expected_wins_dfs = calc_win_ratio(runs_scored_dfs, runs_allowed_dfs) * 162\n",
    "expected_wins_dfs = pd.DataFrame(expected_wins_dfs).reset_index()"
   ]
  },
  {
   "cell_type": "markdown",
   "metadata": {},
   "source": [
    "Now we will plot graphs of the performances (wins) of the teams with the trade in place and with the trade not in place. That we could visually examine how these teams may have performed if the trade were to have actually happened."
   ]
  },
  {
   "cell_type": "code",
   "execution_count": 14,
   "metadata": {
    "collapsed": false
   },
   "outputs": [
    {
     "data": {
      "application/vnd.plotly.v1+json": {
       "data": [
        {
         "line": {
          "color": "rgb(51,204,255)"
         },
         "name": "Wins with Sweeney (without trade)",
         "type": "scatter",
         "x": [
          2007,
          2006,
          2005,
          2004,
          2003,
          2002,
          2001,
          2000,
          1999,
          1998,
          1997,
          1996,
          1995
         ],
         "y": [
          69,
          62,
          56,
          58,
          83,
          62,
          65,
          77,
          64,
          72,
          67,
          75,
          70
         ]
        },
        {
         "line": {
          "color": "rgb(0,0,255)"
         },
         "name": "Predicted Wins with Jeter (with trade)",
         "type": "scatter",
         "x": [
          1995,
          1996,
          1997,
          1998,
          1999,
          2000,
          2001,
          2002,
          2003,
          2004,
          2005,
          2006,
          2007
         ],
         "y": [
          73.91691585911612,
          85.11513414891779,
          82.27396839175314,
          72.4873362767847,
          78.1368065413454,
          77.7133670486763,
          69.31641186016003,
          70.28605536265556,
          80.43750678160227,
          68.53890043320537,
          64.4507430303239,
          70.4699927190793,
          81.41538188440576
         ]
        }
       ],
       "layout": {
        "title": "KCR Wins With and Without The Trade",
        "xaxis": {
         "title": "Year"
        },
        "yaxis": {
         "title": "Number of Wins"
        }
       }
      },
      "text/html": [
       "<div id=\"5b27e0c6-e782-4d4a-aed4-59d707ff57ef\" style=\"height: 525px; width: 100%;\" class=\"plotly-graph-div\"></div><script type=\"text/javascript\">require([\"plotly\"], function(Plotly) { window.PLOTLYENV=window.PLOTLYENV || {};window.PLOTLYENV.BASE_URL=\"https://plot.ly\";Plotly.newPlot(\"5b27e0c6-e782-4d4a-aed4-59d707ff57ef\", [{\"y\": [69, 62, 56, 58, 83, 62, 65, 77, 64, 72, 67, 75, 70], \"type\": \"scatter\", \"line\": {\"color\": \"rgb(51,204,255)\"}, \"name\": \"Wins with Sweeney (without trade)\", \"x\": [2007, 2006, 2005, 2004, 2003, 2002, 2001, 2000, 1999, 1998, 1997, 1996, 1995]}, {\"y\": [73.91691585911612, 85.11513414891779, 82.27396839175314, 72.4873362767847, 78.1368065413454, 77.7133670486763, 69.31641186016003, 70.28605536265556, 80.43750678160227, 68.53890043320537, 64.4507430303239, 70.4699927190793, 81.41538188440576], \"type\": \"scatter\", \"line\": {\"color\": \"rgb(0,0,255)\"}, \"name\": \"Predicted Wins with Jeter (with trade)\", \"x\": [1995, 1996, 1997, 1998, 1999, 2000, 2001, 2002, 2003, 2004, 2005, 2006, 2007]}], {\"xaxis\": {\"title\": \"Year\"}, \"title\": \"KCR Wins With and Without The Trade\", \"yaxis\": {\"title\": \"Number of Wins\"}}, {\"linkText\": \"Export to plot.ly\", \"showLink\": true})});</script>"
      ],
      "text/vnd.plotly.v1+html": [
       "<div id=\"5b27e0c6-e782-4d4a-aed4-59d707ff57ef\" style=\"height: 525px; width: 100%;\" class=\"plotly-graph-div\"></div><script type=\"text/javascript\">require([\"plotly\"], function(Plotly) { window.PLOTLYENV=window.PLOTLYENV || {};window.PLOTLYENV.BASE_URL=\"https://plot.ly\";Plotly.newPlot(\"5b27e0c6-e782-4d4a-aed4-59d707ff57ef\", [{\"y\": [69, 62, 56, 58, 83, 62, 65, 77, 64, 72, 67, 75, 70], \"type\": \"scatter\", \"line\": {\"color\": \"rgb(51,204,255)\"}, \"name\": \"Wins with Sweeney (without trade)\", \"x\": [2007, 2006, 2005, 2004, 2003, 2002, 2001, 2000, 1999, 1998, 1997, 1996, 1995]}, {\"y\": [73.91691585911612, 85.11513414891779, 82.27396839175314, 72.4873362767847, 78.1368065413454, 77.7133670486763, 69.31641186016003, 70.28605536265556, 80.43750678160227, 68.53890043320537, 64.4507430303239, 70.4699927190793, 81.41538188440576], \"type\": \"scatter\", \"line\": {\"color\": \"rgb(0,0,255)\"}, \"name\": \"Predicted Wins with Jeter (with trade)\", \"x\": [1995, 1996, 1997, 1998, 1999, 2000, 2001, 2002, 2003, 2004, 2005, 2006, 2007]}], {\"xaxis\": {\"title\": \"Year\"}, \"title\": \"KCR Wins With and Without The Trade\", \"yaxis\": {\"title\": \"Number of Wins\"}}, {\"linkText\": \"Export to plot.ly\", \"showLink\": true})});</script>"
      ]
     },
     "metadata": {},
     "output_type": "display_data"
    }
   ],
   "source": [
    "# Plot expected wins of KCR with Jeter vs. expected wins of KCR with Sweeney (their actual wins).\n",
    "trace0 = Scatter(\n",
    "    x = kcr_yw[kcr_yw['year'] <= 2007]['year'],\n",
    "    y = kcr_yw[kcr_yw['year'] <= 2007]['wins'],\n",
    "    name = \"Wins with Sweeney (without trade)\",\n",
    "    line = dict(\n",
    "        color = ('rgb(51,204,255)'),\n",
    "    )\n",
    ")\n",
    "trace1 = Scatter(\n",
    "    x = expected_wins_dfj[expected_wins_dfj['year'] <= 2007]['year'],\n",
    "    y = expected_wins_dfj[expected_wins_dfj['year'] <= 2007][0],\n",
    "    name = \"Predicted Wins with Jeter (with trade)\",\n",
    "    line = dict(\n",
    "        color = ('rgb(0,0,255)')\n",
    "    )\n",
    ")\n",
    "\n",
    "traces = [trace0,trace1]\n",
    "\n",
    "layout = dict(\n",
    "    title = \"KCR Wins With and Without The Trade\",\n",
    "    xaxis = dict(title = \"Year\"),\n",
    "    yaxis = dict(title = \"Number of Wins\")\n",
    ")\n",
    "\n",
    "fig = dict(data = traces, layout = layout)\n",
    "py.iplot(fig)"
   ]
  },
  {
   "cell_type": "code",
   "execution_count": 15,
   "metadata": {
    "collapsed": false
   },
   "outputs": [
    {
     "data": {
      "application/vnd.plotly.v1+json": {
       "data": [
        {
         "line": {
          "color": "rgb(0,0,255)"
         },
         "name": "Wins with Jeter (without trade)",
         "type": "scatter",
         "x": [
          2007,
          2006,
          2005,
          2004,
          2003,
          2002,
          2001,
          2000,
          1999,
          1998,
          1997,
          1996,
          1995
         ],
         "y": [
          94,
          97,
          95,
          101,
          101,
          103,
          95,
          87,
          98,
          114,
          96,
          92,
          79
         ]
        },
        {
         "line": {
          "color": "rgb(51,204,255)"
         },
         "name": "Predicted Wins with Sweeney (with trade)",
         "type": "scatter",
         "x": [
          1995,
          1996,
          1997,
          1998,
          1999,
          2000,
          2001,
          2002,
          2003,
          2004,
          2005,
          2006,
          2007
         ],
         "y": [
          87.43364492706412,
          81.30817897350074,
          93.61775651012289,
          103.28005552392278,
          94.68808988764046,
          85.16600252676183,
          89.37905912437724,
          97.23213002777491,
          94.94610515437282,
          84.33676499528575,
          84.80730070037124,
          87.86403726447165,
          92.10962753136538
         ]
        }
       ],
       "layout": {
        "title": "NYY Wins With and Without The Trade",
        "xaxis": {
         "title": "Year"
        },
        "yaxis": {
         "title": "Number of Wins"
        }
       }
      },
      "text/html": [
       "<div id=\"397269b7-2f74-4090-a8b3-856ff88442b8\" style=\"height: 525px; width: 100%;\" class=\"plotly-graph-div\"></div><script type=\"text/javascript\">require([\"plotly\"], function(Plotly) { window.PLOTLYENV=window.PLOTLYENV || {};window.PLOTLYENV.BASE_URL=\"https://plot.ly\";Plotly.newPlot(\"397269b7-2f74-4090-a8b3-856ff88442b8\", [{\"y\": [94, 97, 95, 101, 101, 103, 95, 87, 98, 114, 96, 92, 79], \"type\": \"scatter\", \"line\": {\"color\": \"rgb(0,0,255)\"}, \"name\": \"Wins with Jeter (without trade)\", \"x\": [2007, 2006, 2005, 2004, 2003, 2002, 2001, 2000, 1999, 1998, 1997, 1996, 1995]}, {\"y\": [87.43364492706412, 81.30817897350074, 93.61775651012289, 103.28005552392278, 94.68808988764046, 85.16600252676183, 89.37905912437724, 97.23213002777491, 94.94610515437282, 84.33676499528575, 84.80730070037124, 87.86403726447165, 92.10962753136538], \"type\": \"scatter\", \"line\": {\"color\": \"rgb(51,204,255)\"}, \"name\": \"Predicted Wins with Sweeney (with trade)\", \"x\": [1995, 1996, 1997, 1998, 1999, 2000, 2001, 2002, 2003, 2004, 2005, 2006, 2007]}], {\"xaxis\": {\"title\": \"Year\"}, \"title\": \"NYY Wins With and Without The Trade\", \"yaxis\": {\"title\": \"Number of Wins\"}}, {\"linkText\": \"Export to plot.ly\", \"showLink\": true})});</script>"
      ],
      "text/vnd.plotly.v1+html": [
       "<div id=\"397269b7-2f74-4090-a8b3-856ff88442b8\" style=\"height: 525px; width: 100%;\" class=\"plotly-graph-div\"></div><script type=\"text/javascript\">require([\"plotly\"], function(Plotly) { window.PLOTLYENV=window.PLOTLYENV || {};window.PLOTLYENV.BASE_URL=\"https://plot.ly\";Plotly.newPlot(\"397269b7-2f74-4090-a8b3-856ff88442b8\", [{\"y\": [94, 97, 95, 101, 101, 103, 95, 87, 98, 114, 96, 92, 79], \"type\": \"scatter\", \"line\": {\"color\": \"rgb(0,0,255)\"}, \"name\": \"Wins with Jeter (without trade)\", \"x\": [2007, 2006, 2005, 2004, 2003, 2002, 2001, 2000, 1999, 1998, 1997, 1996, 1995]}, {\"y\": [87.43364492706412, 81.30817897350074, 93.61775651012289, 103.28005552392278, 94.68808988764046, 85.16600252676183, 89.37905912437724, 97.23213002777491, 94.94610515437282, 84.33676499528575, 84.80730070037124, 87.86403726447165, 92.10962753136538], \"type\": \"scatter\", \"line\": {\"color\": \"rgb(51,204,255)\"}, \"name\": \"Predicted Wins with Sweeney (with trade)\", \"x\": [1995, 1996, 1997, 1998, 1999, 2000, 2001, 2002, 2003, 2004, 2005, 2006, 2007]}], {\"xaxis\": {\"title\": \"Year\"}, \"title\": \"NYY Wins With and Without The Trade\", \"yaxis\": {\"title\": \"Number of Wins\"}}, {\"linkText\": \"Export to plot.ly\", \"showLink\": true})});</script>"
      ]
     },
     "metadata": {},
     "output_type": "display_data"
    }
   ],
   "source": [
    "# Plot expected wins of NYY with Sweeney vs. expected wins of NYY with Jeter (their actual wins).\n",
    "trace0 = Scatter(\n",
    "    x = nyy_yw[nyy_yw['year'] <= 2007]['year'],\n",
    "    y = nyy_yw[nyy_yw['year'] <= 2007]['wins'],\n",
    "    name = \"Wins with Jeter (without trade)\",\n",
    "    line = dict(\n",
    "        color = ('rgb(0,0,255)'),\n",
    "    )\n",
    ")\n",
    "trace1 = Scatter(\n",
    "    x = expected_wins_dfs[expected_wins_dfs['year'] <= 2007]['year'],\n",
    "    y = expected_wins_dfs[expected_wins_dfs['year'] <= 2007][0],\n",
    "    name = \"Predicted Wins with Sweeney (with trade)\",\n",
    "    line = dict(\n",
    "        color = ('rgb(51,204,255)')\n",
    "    )\n",
    ")\n",
    "\n",
    "traces = [trace0,trace1]\n",
    "\n",
    "layout = dict(\n",
    "    title = \"NYY Wins With and Without The Trade\",\n",
    "    xaxis = dict(title = \"Year\"),\n",
    "    yaxis = dict(title = \"Number of Wins\")\n",
    ")\n",
    "\n",
    "fig = dict(data = traces, layout = layout)\n",
    "py.iplot(fig)"
   ]
  },
  {
   "cell_type": "code",
   "execution_count": 16,
   "metadata": {
    "collapsed": true
   },
   "outputs": [],
   "source": [
    "# export to csvs\n",
    "expected_wins_dfj.to_csv(\"expected_wins_dfj.csv\", index=False)\n",
    "expected_wins_dfs.to_csv(\"expected_wins_dfs.csv\", index=False)\n",
    "nyy_yw.to_csv(\"nyy_yw.csv\", index=False)\n",
    "kcr_yw.to_csv(\"kcr_yw.csv\", index=False)"
   ]
  }
 ],
 "metadata": {
  "kernelspec": {
   "display_name": "Python 3",
   "language": "python",
   "name": "python3"
  },
  "language_info": {
   "codemirror_mode": {
    "name": "ipython",
    "version": 3
   },
   "file_extension": ".py",
   "mimetype": "text/x-python",
   "name": "python",
   "nbconvert_exporter": "python",
   "pygments_lexer": "ipython3",
   "version": "3.5.2"
  }
 },
 "nbformat": 4,
 "nbformat_minor": 2
}
