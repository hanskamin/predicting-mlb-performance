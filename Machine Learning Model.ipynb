{
 "cells": [
  {
   "cell_type": "markdown",
   "metadata": {},
   "source": [
    "# Machine Learning Model for Predicting Wins"
   ]
  },
  {
   "cell_type": "markdown",
   "metadata": {},
   "source": [
    "In this notebook, we use the data that we have gathered to fit a machine learning model to our data. We want to see how our model compares to the Pythagorean expectation. We will first analyze what model best fits our data. Then we will see if any of our variables will lower our test error if we remove them. Finally, we will feed our model training data and have it predict on test data. We will then calculate the Pythagorean expectation for that test error, then see if our model come close in accuracy."
   ]
  },
  {
   "cell_type": "code",
   "execution_count": 1,
   "metadata": {
    "collapsed": false
   },
   "outputs": [
    {
     "data": {
      "text/html": [
       "<script>requirejs.config({paths: { 'plotly': ['https://cdn.plot.ly/plotly-latest.min']},});if(!window.Plotly) {{require(['plotly'],function(plotly) {window.Plotly=plotly;});}}</script>"
      ],
      "text/vnd.plotly.v1+html": [
       "<script>requirejs.config({paths: { 'plotly': ['https://cdn.plot.ly/plotly-latest.min']},});if(!window.Plotly) {{require(['plotly'],function(plotly) {window.Plotly=plotly;});}}</script>"
      ]
     },
     "metadata": {},
     "output_type": "display_data"
    }
   ],
   "source": [
    "import numpy as np\n",
    "import pandas as pd\n",
    "import requests\n",
    "import plotly.offline as py\n",
    "import matplotlib.pyplot as plt\n",
    "from plotly.graph_objs import *\n",
    "from sklearn import tree\n",
    "from sklearn.ensemble import RandomForestRegressor\n",
    "from sklearn.linear_model import LinearRegression, LogisticRegression\n",
    "from sklearn.neighbors import KNeighborsRegressor\n",
    "from sklearn.model_selection import cross_val_score, train_test_split\n",
    "from sklearn.cluster import KMeans\n",
    "from bs4 import BeautifulSoup\n",
    "%matplotlib inline\n",
    "pd.set_option(\"max_r\", 15)\n",
    "py.init_notebook_mode(connected=True)"
   ]
  },
  {
   "cell_type": "code",
   "execution_count": 2,
   "metadata": {
    "collapsed": false
   },
   "outputs": [],
   "source": [
    "training = pd.read_csv(\"training.csv\")\n",
    "# Calculate the run differential to be passed into our models.\n",
    "training[\"Rdiff\"] = training[\"R\"] - training[\"RA\"]\n",
    "r = training['R']\n",
    "ra = training['RA']\n",
    "year = training[\"year\"]\n",
    "training = training.drop(['R', \"RA\"], axis=1)\n",
    "# Grab the wins (y) variable and then drop it from the dataframe (X).\n",
    "y = training['W']\n",
    "training = training.drop('W', axis=1)"
   ]
  },
  {
   "cell_type": "code",
   "execution_count": 3,
   "metadata": {
    "collapsed": false
   },
   "outputs": [
    {
     "data": {
      "text/html": [
       "<div>\n",
       "<table border=\"1\" class=\"dataframe\">\n",
       "  <thead>\n",
       "    <tr style=\"text-align: right;\">\n",
       "      <th></th>\n",
       "      <th>SOS</th>\n",
       "      <th>ERA</th>\n",
       "      <th>WHIP</th>\n",
       "      <th>FIP</th>\n",
       "      <th>SO</th>\n",
       "      <th>Rdiff</th>\n",
       "      <th>1997</th>\n",
       "      <th>1998</th>\n",
       "      <th>1999</th>\n",
       "      <th>2000</th>\n",
       "      <th>...</th>\n",
       "      <th>2007</th>\n",
       "      <th>2008</th>\n",
       "      <th>2009</th>\n",
       "      <th>2010</th>\n",
       "      <th>2011</th>\n",
       "      <th>2012</th>\n",
       "      <th>2013</th>\n",
       "      <th>2014</th>\n",
       "      <th>2015</th>\n",
       "      <th>2016</th>\n",
       "    </tr>\n",
       "  </thead>\n",
       "  <tbody>\n",
       "    <tr>\n",
       "      <th>0</th>\n",
       "      <td>0.0</td>\n",
       "      <td>4.52</td>\n",
       "      <td>1.451</td>\n",
       "      <td>4.83</td>\n",
       "      <td>1050</td>\n",
       "      <td>32.4</td>\n",
       "      <td>1</td>\n",
       "      <td>0</td>\n",
       "      <td>0</td>\n",
       "      <td>0</td>\n",
       "      <td>...</td>\n",
       "      <td>0</td>\n",
       "      <td>0</td>\n",
       "      <td>0</td>\n",
       "      <td>0</td>\n",
       "      <td>0</td>\n",
       "      <td>0</td>\n",
       "      <td>0</td>\n",
       "      <td>0</td>\n",
       "      <td>0</td>\n",
       "      <td>0</td>\n",
       "    </tr>\n",
       "    <tr>\n",
       "      <th>1</th>\n",
       "      <td>0.0</td>\n",
       "      <td>4.49</td>\n",
       "      <td>1.462</td>\n",
       "      <td>4.51</td>\n",
       "      <td>1091</td>\n",
       "      <td>16.2</td>\n",
       "      <td>0</td>\n",
       "      <td>1</td>\n",
       "      <td>0</td>\n",
       "      <td>0</td>\n",
       "      <td>...</td>\n",
       "      <td>0</td>\n",
       "      <td>0</td>\n",
       "      <td>0</td>\n",
       "      <td>0</td>\n",
       "      <td>0</td>\n",
       "      <td>0</td>\n",
       "      <td>0</td>\n",
       "      <td>0</td>\n",
       "      <td>0</td>\n",
       "      <td>0</td>\n",
       "    </tr>\n",
       "    <tr>\n",
       "      <th>2</th>\n",
       "      <td>-0.2</td>\n",
       "      <td>4.79</td>\n",
       "      <td>1.464</td>\n",
       "      <td>4.94</td>\n",
       "      <td>877</td>\n",
       "      <td>-113.4</td>\n",
       "      <td>0</td>\n",
       "      <td>0</td>\n",
       "      <td>1</td>\n",
       "      <td>0</td>\n",
       "      <td>...</td>\n",
       "      <td>0</td>\n",
       "      <td>0</td>\n",
       "      <td>0</td>\n",
       "      <td>0</td>\n",
       "      <td>0</td>\n",
       "      <td>0</td>\n",
       "      <td>0</td>\n",
       "      <td>0</td>\n",
       "      <td>0</td>\n",
       "      <td>0</td>\n",
       "    </tr>\n",
       "    <tr>\n",
       "      <th>3</th>\n",
       "      <td>0.1</td>\n",
       "      <td>5.00</td>\n",
       "      <td>1.517</td>\n",
       "      <td>5.46</td>\n",
       "      <td>846</td>\n",
       "      <td>-16.2</td>\n",
       "      <td>0</td>\n",
       "      <td>0</td>\n",
       "      <td>0</td>\n",
       "      <td>1</td>\n",
       "      <td>...</td>\n",
       "      <td>0</td>\n",
       "      <td>0</td>\n",
       "      <td>0</td>\n",
       "      <td>0</td>\n",
       "      <td>0</td>\n",
       "      <td>0</td>\n",
       "      <td>0</td>\n",
       "      <td>0</td>\n",
       "      <td>0</td>\n",
       "      <td>0</td>\n",
       "    </tr>\n",
       "    <tr>\n",
       "      <th>4</th>\n",
       "      <td>0.2</td>\n",
       "      <td>4.20</td>\n",
       "      <td>1.375</td>\n",
       "      <td>4.48</td>\n",
       "      <td>947</td>\n",
       "      <td>-32.4</td>\n",
       "      <td>0</td>\n",
       "      <td>0</td>\n",
       "      <td>0</td>\n",
       "      <td>0</td>\n",
       "      <td>...</td>\n",
       "      <td>0</td>\n",
       "      <td>0</td>\n",
       "      <td>0</td>\n",
       "      <td>0</td>\n",
       "      <td>0</td>\n",
       "      <td>0</td>\n",
       "      <td>0</td>\n",
       "      <td>0</td>\n",
       "      <td>0</td>\n",
       "      <td>0</td>\n",
       "    </tr>\n",
       "  </tbody>\n",
       "</table>\n",
       "<p>5 rows × 26 columns</p>\n",
       "</div>"
      ],
      "text/plain": [
       "   SOS   ERA   WHIP   FIP    SO  Rdiff  1997  1998  1999  2000  ...   2007  \\\n",
       "0  0.0  4.52  1.451  4.83  1050   32.4     1     0     0     0  ...      0   \n",
       "1  0.0  4.49  1.462  4.51  1091   16.2     0     1     0     0  ...      0   \n",
       "2 -0.2  4.79  1.464  4.94   877 -113.4     0     0     1     0  ...      0   \n",
       "3  0.1  5.00  1.517  5.46   846  -16.2     0     0     0     1  ...      0   \n",
       "4  0.2  4.20  1.375  4.48   947  -32.4     0     0     0     0  ...      0   \n",
       "\n",
       "   2008  2009  2010  2011  2012  2013  2014  2015  2016  \n",
       "0     0     0     0     0     0     0     0     0     0  \n",
       "1     0     0     0     0     0     0     0     0     0  \n",
       "2     0     0     0     0     0     0     0     0     0  \n",
       "3     0     0     0     0     0     0     0     0     0  \n",
       "4     0     0     0     0     0     0     0     0     0  \n",
       "\n",
       "[5 rows x 26 columns]"
      ]
     },
     "execution_count": 3,
     "metadata": {},
     "output_type": "execute_result"
    }
   ],
   "source": [
    "# Year needs to be classified as a categorical variable.\n",
    "X = pd.get_dummies(training[\"year\"]).drop(1996, axis=1)\n",
    "training = pd.concat([training, X], axis=1).drop(\"year\",axis=1)\n",
    "training.head()"
   ]
  },
  {
   "cell_type": "markdown",
   "metadata": {},
   "source": [
    "Model 1: Linear regression"
   ]
  },
  {
   "cell_type": "code",
   "execution_count": 4,
   "metadata": {
    "collapsed": false,
    "scrolled": true
   },
   "outputs": [
    {
     "data": {
      "text/plain": [
       "17.528770245915684"
      ]
     },
     "execution_count": 4,
     "metadata": {},
     "output_type": "execute_result"
    }
   ],
   "source": [
    "model = LinearRegression()\n",
    "-cross_val_score(model, X=training, y=y, cv=10, scoring=\"neg_mean_squared_error\").mean()"
   ]
  },
  {
   "cell_type": "markdown",
   "metadata": {},
   "source": [
    "Model 2: Polynomial regression"
   ]
  },
  {
   "cell_type": "code",
   "execution_count": 5,
   "metadata": {
    "collapsed": false
   },
   "outputs": [
    {
     "data": {
      "text/plain": [
       "<matplotlib.collections.PathCollection at 0x7fe696ff2940>"
      ]
     },
     "execution_count": 5,
     "metadata": {},
     "output_type": "execute_result"
    },
    {
     "data": {
      "image/png": "[encoded data removed]",
      "text/plain": [
       "<matplotlib.figure.Figure at 0x7fe694c01710>"
      ]
     },
     "metadata": {},
     "output_type": "display_data"
    }
   ],
   "source": [
    "# Determine which polynomial model is the best.\n",
    "df = training.copy()\n",
    "model = LinearRegression()\n",
    "cross_val = []\n",
    "Rdiffs = []\n",
    "for i in range (2, 30):\n",
    "    df[\"Rdiff^%s\" % i] = df[\"Rdiff\"] ** i\n",
    "    Rdiffs.append(\"Rdiff^%s\" % i)\n",
    "    cross_val.append(-cross_val_score(model, df[Rdiffs], y, cv=10, scoring=\"neg_mean_squared_error\").mean())\n",
    "    \n",
    "cross_val = pd.DataFrame(cross_val, columns=[\"cross_val_score\"]) \n",
    "cross_val[\"pow\"] = cross_val.index+1\n",
    "plt.scatter(cross_val[\"pow\"], cross_val[\"cross_val_score\"])"
   ]
  },
  {
   "cell_type": "markdown",
   "metadata": {},
   "source": [
    "In the graph above, we plot the cross value score for powers 1 through 30 in order to see which polynomial model minimize the test errror best."
   ]
  },
  {
   "cell_type": "code",
   "execution_count": 6,
   "metadata": {
    "collapsed": false
   },
   "outputs": [
    {
     "data": {
      "text/plain": [
       "cross_val_score    60.749717\n",
       "pow                 1.000000\n",
       "dtype: float64"
      ]
     },
     "execution_count": 6,
     "metadata": {},
     "output_type": "execute_result"
    }
   ],
   "source": [
    "cross_val.min()"
   ]
  },
  {
   "cell_type": "code",
   "execution_count": 7,
   "metadata": {
    "collapsed": false
   },
   "outputs": [
    {
     "data": {
      "text/html": [
       "<div>\n",
       "<table border=\"1\" class=\"dataframe\">\n",
       "  <thead>\n",
       "    <tr style=\"text-align: right;\">\n",
       "      <th></th>\n",
       "      <th>cross_val_score</th>\n",
       "      <th>pow</th>\n",
       "    </tr>\n",
       "  </thead>\n",
       "  <tbody>\n",
       "    <tr>\n",
       "      <th>3</th>\n",
       "      <td>60.749717</td>\n",
       "      <td>4</td>\n",
       "    </tr>\n",
       "  </tbody>\n",
       "</table>\n",
       "</div>"
      ],
      "text/plain": [
       "   cross_val_score  pow\n",
       "3        60.749717    4"
      ]
     },
     "execution_count": 7,
     "metadata": {},
     "output_type": "execute_result"
    }
   ],
   "source": [
    "cross_val[cross_val[\"cross_val_score\"] == cross_val[\"cross_val_score\"].min()]"
   ]
  },
  {
   "cell_type": "markdown",
   "metadata": {},
   "source": [
    "Model 3: K-Nearest Neighbors"
   ]
  },
  {
   "cell_type": "code",
   "execution_count": 8,
   "metadata": {
    "collapsed": false
   },
   "outputs": [
    {
     "data": {
      "text/plain": [
       "<matplotlib.collections.PathCollection at 0x7fe68f37d390>"
      ]
     },
     "execution_count": 8,
     "metadata": {},
     "output_type": "execute_result"
    },
    {
     "data": {
      "image/png": "[encoded data removed]",
      "text/plain": [
       "<matplotlib.figure.Figure at 0x7fe68f3b5470>"
      ]
     },
     "metadata": {},
     "output_type": "display_data"
    }
   ],
   "source": [
    "cross_val = []\n",
    "n_neighbors = []\n",
    "for i in range (1, 50):\n",
    "    model = KNeighborsRegressor(n_neighbors=i)\n",
    "    n_neighbors.append(i)\n",
    "    cross_val.append(-cross_val_score(model, training, y, cv=10, scoring=\"neg_mean_squared_error\").mean())\n",
    "    \n",
    "cross_val = pd.DataFrame(cross_val, columns=[\"cross_val_score\"]) \n",
    "cross_val[\"n_neighbors\"] = cross_val.index+1\n",
    "plt.scatter(cross_val[\"n_neighbors\"], cross_val[\"cross_val_score\"])"
   ]
  },
  {
   "cell_type": "markdown",
   "metadata": {},
   "source": [
    "The graph above helps us determine the amount of neighbors that best fits the model to our data"
   ]
  },
  {
   "cell_type": "code",
   "execution_count": 9,
   "metadata": {
    "collapsed": false
   },
   "outputs": [
    {
     "data": {
      "text/plain": [
       "cross_val_score    20.226727\n",
       "n_neighbors         1.000000\n",
       "dtype: float64"
      ]
     },
     "execution_count": 9,
     "metadata": {},
     "output_type": "execute_result"
    }
   ],
   "source": [
    "cross_val.min()"
   ]
  },
  {
   "cell_type": "code",
   "execution_count": 10,
   "metadata": {
    "collapsed": false
   },
   "outputs": [
    {
     "data": {
      "text/html": [
       "<div>\n",
       "<table border=\"1\" class=\"dataframe\">\n",
       "  <thead>\n",
       "    <tr style=\"text-align: right;\">\n",
       "      <th></th>\n",
       "      <th>cross_val_score</th>\n",
       "      <th>n_neighbors</th>\n",
       "    </tr>\n",
       "  </thead>\n",
       "  <tbody>\n",
       "    <tr>\n",
       "      <th>12</th>\n",
       "      <td>20.226727</td>\n",
       "      <td>13</td>\n",
       "    </tr>\n",
       "  </tbody>\n",
       "</table>\n",
       "</div>"
      ],
      "text/plain": [
       "    cross_val_score  n_neighbors\n",
       "12        20.226727           13"
      ]
     },
     "execution_count": 10,
     "metadata": {},
     "output_type": "execute_result"
    }
   ],
   "source": [
    "cross_val[cross_val[\"cross_val_score\"] == cross_val[\"cross_val_score\"].min()]"
   ]
  },
  {
   "cell_type": "markdown",
   "metadata": {},
   "source": [
    "Model 4: Decision Tree"
   ]
  },
  {
   "cell_type": "code",
   "execution_count": 11,
   "metadata": {
    "collapsed": false
   },
   "outputs": [
    {
     "data": {
      "text/plain": [
       "39.215745007680496"
      ]
     },
     "execution_count": 11,
     "metadata": {},
     "output_type": "execute_result"
    }
   ],
   "source": [
    "model = tree.DecisionTreeRegressor()\n",
    "-cross_val_score(model, X=training, y=y, cv=10, scoring=\"neg_mean_squared_error\").mean()"
   ]
  },
  {
   "cell_type": "markdown",
   "metadata": {},
   "source": [
    "Model 5: Random Forest"
   ]
  },
  {
   "cell_type": "code",
   "execution_count": 12,
   "metadata": {
    "collapsed": false
   },
   "outputs": [
    {
     "data": {
      "text/plain": [
       "<matplotlib.collections.PathCollection at 0x7fe68f2f97b8>"
      ]
     },
     "execution_count": 12,
     "metadata": {},
     "output_type": "execute_result"
    },
    {
     "data": {
      "image/png": "[encoded data removed]",
      "text/plain": [
       "<matplotlib.figure.Figure at 0x7fe68f3bfa58>"
      ]
     },
     "metadata": {},
     "output_type": "display_data"
    }
   ],
   "source": [
    "cross_val = []\n",
    "n_estimators = []\n",
    "for i in range (10, 40):\n",
    "    model = RandomForestRegressor(n_estimators=i)\n",
    "    n_estimators.append(i)\n",
    "    cross_val.append(-cross_val_score(model, training, y, cv=10, scoring=\"neg_mean_squared_error\").mean())\n",
    "    \n",
    "cross_val = pd.DataFrame(cross_val, columns=[\"cross_val_score\"]) \n",
    "cross_val[\"n_estimators\"] = cross_val.index+1\n",
    "plt.scatter(cross_val[\"n_estimators\"], cross_val[\"cross_val_score\"])"
   ]
  },
  {
   "cell_type": "markdown",
   "metadata": {},
   "source": [
    "The graph above helps us determine the best amount of estimators for our model"
   ]
  },
  {
   "cell_type": "code",
   "execution_count": 13,
   "metadata": {
    "collapsed": false
   },
   "outputs": [
    {
     "data": {
      "text/plain": [
       "cross_val_score    20.144058\n",
       "n_estimators        1.000000\n",
       "dtype: float64"
      ]
     },
     "execution_count": 13,
     "metadata": {},
     "output_type": "execute_result"
    }
   ],
   "source": [
    "cross_val.min()"
   ]
  },
  {
   "cell_type": "code",
   "execution_count": 14,
   "metadata": {
    "collapsed": false,
    "scrolled": true
   },
   "outputs": [
    {
     "data": {
      "text/html": [
       "<div>\n",
       "<table border=\"1\" class=\"dataframe\">\n",
       "  <thead>\n",
       "    <tr style=\"text-align: right;\">\n",
       "      <th></th>\n",
       "      <th>cross_val_score</th>\n",
       "      <th>n_estimators</th>\n",
       "    </tr>\n",
       "  </thead>\n",
       "  <tbody>\n",
       "    <tr>\n",
       "      <th>20</th>\n",
       "      <td>20.144058</td>\n",
       "      <td>21</td>\n",
       "    </tr>\n",
       "  </tbody>\n",
       "</table>\n",
       "</div>"
      ],
      "text/plain": [
       "    cross_val_score  n_estimators\n",
       "20        20.144058            21"
      ]
     },
     "execution_count": 14,
     "metadata": {},
     "output_type": "execute_result"
    }
   ],
   "source": [
    "cross_val[cross_val[\"cross_val_score\"] == cross_val[\"cross_val_score\"].min()]"
   ]
  },
  {
   "cell_type": "markdown",
   "metadata": {},
   "source": [
    "Now that we have examined various models, we can safely conclude that the best model for this data is linear regresssion.\n",
    "\n",
    "Here we are testing our best model with different combinations of variables."
   ]
  },
  {
   "cell_type": "code",
   "execution_count": 15,
   "metadata": {
    "collapsed": false,
    "scrolled": true
   },
   "outputs": [
    {
     "data": {
      "text/plain": [
       "17.472625817114366"
      ]
     },
     "execution_count": 15,
     "metadata": {},
     "output_type": "execute_result"
    }
   ],
   "source": [
    "# Dropping strikeouts improves our score by .02\n",
    "model = LinearRegression()\n",
    "-cross_val_score(model, X=training.drop(\"SO\",axis=1), y=y, cv=10, scoring=\"neg_mean_squared_error\").mean()"
   ]
  },
  {
   "cell_type": "code",
   "execution_count": 16,
   "metadata": {
    "collapsed": false,
    "scrolled": true
   },
   "outputs": [
    {
     "data": {
      "text/plain": [
       "17.385170574685219"
      ]
     },
     "execution_count": 16,
     "metadata": {},
     "output_type": "execute_result"
    }
   ],
   "source": [
    "# Dropping strikeouts and strength of schedule.\n",
    "model = LinearRegression()\n",
    "-cross_val_score(model, X=training.drop([\"SO\",\"SOS\"],axis=1), y=y, cv=10, scoring=\"neg_mean_squared_error\").mean()"
   ]
  },
  {
   "cell_type": "code",
   "execution_count": 17,
   "metadata": {
    "collapsed": false
   },
   "outputs": [
    {
     "data": {
      "text/plain": [
       "17.382107165558104"
      ]
     },
     "execution_count": 17,
     "metadata": {},
     "output_type": "execute_result"
    }
   ],
   "source": [
    "# Dropping strikeouts, strength of schedule, and WHIP.\n",
    "model = LinearRegression()\n",
    "-cross_val_score(model, X=training.drop([\"SO\",\"SOS\",\"WHIP\"],axis=1), y=y, cv=10, scoring=\"neg_mean_squared_error\").mean()"
   ]
  },
  {
   "cell_type": "code",
   "execution_count": 18,
   "metadata": {
    "collapsed": false,
    "scrolled": true
   },
   "outputs": [
    {
     "data": {
      "text/plain": [
       "17.292438000122736"
      ]
     },
     "execution_count": 18,
     "metadata": {},
     "output_type": "execute_result"
    }
   ],
   "source": [
    "# Dropping strikeouts, strength of schedule, WHIP, ERA.\n",
    "model = LinearRegression()\n",
    "-cross_val_score(model, X=training.drop([\"SO\",\"SOS\",\"WHIP\",\"ERA\"],axis=1), y=y, cv=10, scoring=\"neg_mean_squared_error\").mean()"
   ]
  },
  {
   "cell_type": "code",
   "execution_count": 19,
   "metadata": {
    "collapsed": false,
    "scrolled": true
   },
   "outputs": [
    {
     "data": {
      "text/plain": [
       "17.835073004006638"
      ]
     },
     "execution_count": 19,
     "metadata": {},
     "output_type": "execute_result"
    }
   ],
   "source": [
    "# Dropping strikeouts, strength of schedule, WHIP, ERA, and FIP.\n",
    "# This worsens our model.\n",
    "model = LinearRegression()\n",
    "-cross_val_score(model, X=training.drop([\"SO\",\"SOS\",\"WHIP\",\"ERA\",\"FIP\"],axis=1), y=y, cv=10, scoring=\"neg_mean_squared_error\").mean()"
   ]
  },
  {
   "cell_type": "markdown",
   "metadata": {},
   "source": [
    "Thus, we conclude that the Linear Regression model utilizing Fielding-Independent Pitching, Run Differential, and the year is our best regression model based on our calculated cross val scores."
   ]
  },
  {
   "cell_type": "code",
   "execution_count": 20,
   "metadata": {
    "collapsed": false
   },
   "outputs": [
    {
     "data": {
      "text/html": [
       "<div>\n",
       "<table border=\"1\" class=\"dataframe\">\n",
       "  <thead>\n",
       "    <tr style=\"text-align: right;\">\n",
       "      <th></th>\n",
       "      <th>FIP</th>\n",
       "      <th>Rdiff</th>\n",
       "      <th>1997</th>\n",
       "      <th>1998</th>\n",
       "      <th>1999</th>\n",
       "      <th>2000</th>\n",
       "      <th>2001</th>\n",
       "      <th>2002</th>\n",
       "      <th>2003</th>\n",
       "      <th>2004</th>\n",
       "      <th>...</th>\n",
       "      <th>2007</th>\n",
       "      <th>2008</th>\n",
       "      <th>2009</th>\n",
       "      <th>2010</th>\n",
       "      <th>2011</th>\n",
       "      <th>2012</th>\n",
       "      <th>2013</th>\n",
       "      <th>2014</th>\n",
       "      <th>2015</th>\n",
       "      <th>2016</th>\n",
       "    </tr>\n",
       "  </thead>\n",
       "  <tbody>\n",
       "    <tr>\n",
       "      <th>0</th>\n",
       "      <td>4.83</td>\n",
       "      <td>32.4</td>\n",
       "      <td>1</td>\n",
       "      <td>0</td>\n",
       "      <td>0</td>\n",
       "      <td>0</td>\n",
       "      <td>0</td>\n",
       "      <td>0</td>\n",
       "      <td>0</td>\n",
       "      <td>0</td>\n",
       "      <td>...</td>\n",
       "      <td>0</td>\n",
       "      <td>0</td>\n",
       "      <td>0</td>\n",
       "      <td>0</td>\n",
       "      <td>0</td>\n",
       "      <td>0</td>\n",
       "      <td>0</td>\n",
       "      <td>0</td>\n",
       "      <td>0</td>\n",
       "      <td>0</td>\n",
       "    </tr>\n",
       "    <tr>\n",
       "      <th>1</th>\n",
       "      <td>4.51</td>\n",
       "      <td>16.2</td>\n",
       "      <td>0</td>\n",
       "      <td>1</td>\n",
       "      <td>0</td>\n",
       "      <td>0</td>\n",
       "      <td>0</td>\n",
       "      <td>0</td>\n",
       "      <td>0</td>\n",
       "      <td>0</td>\n",
       "      <td>...</td>\n",
       "      <td>0</td>\n",
       "      <td>0</td>\n",
       "      <td>0</td>\n",
       "      <td>0</td>\n",
       "      <td>0</td>\n",
       "      <td>0</td>\n",
       "      <td>0</td>\n",
       "      <td>0</td>\n",
       "      <td>0</td>\n",
       "      <td>0</td>\n",
       "    </tr>\n",
       "    <tr>\n",
       "      <th>2</th>\n",
       "      <td>4.94</td>\n",
       "      <td>-113.4</td>\n",
       "      <td>0</td>\n",
       "      <td>0</td>\n",
       "      <td>1</td>\n",
       "      <td>0</td>\n",
       "      <td>0</td>\n",
       "      <td>0</td>\n",
       "      <td>0</td>\n",
       "      <td>0</td>\n",
       "      <td>...</td>\n",
       "      <td>0</td>\n",
       "      <td>0</td>\n",
       "      <td>0</td>\n",
       "      <td>0</td>\n",
       "      <td>0</td>\n",
       "      <td>0</td>\n",
       "      <td>0</td>\n",
       "      <td>0</td>\n",
       "      <td>0</td>\n",
       "      <td>0</td>\n",
       "    </tr>\n",
       "    <tr>\n",
       "      <th>3</th>\n",
       "      <td>5.46</td>\n",
       "      <td>-16.2</td>\n",
       "      <td>0</td>\n",
       "      <td>0</td>\n",
       "      <td>0</td>\n",
       "      <td>1</td>\n",
       "      <td>0</td>\n",
       "      <td>0</td>\n",
       "      <td>0</td>\n",
       "      <td>0</td>\n",
       "      <td>...</td>\n",
       "      <td>0</td>\n",
       "      <td>0</td>\n",
       "      <td>0</td>\n",
       "      <td>0</td>\n",
       "      <td>0</td>\n",
       "      <td>0</td>\n",
       "      <td>0</td>\n",
       "      <td>0</td>\n",
       "      <td>0</td>\n",
       "      <td>0</td>\n",
       "    </tr>\n",
       "    <tr>\n",
       "      <th>4</th>\n",
       "      <td>4.48</td>\n",
       "      <td>-32.4</td>\n",
       "      <td>0</td>\n",
       "      <td>0</td>\n",
       "      <td>0</td>\n",
       "      <td>0</td>\n",
       "      <td>1</td>\n",
       "      <td>0</td>\n",
       "      <td>0</td>\n",
       "      <td>0</td>\n",
       "      <td>...</td>\n",
       "      <td>0</td>\n",
       "      <td>0</td>\n",
       "      <td>0</td>\n",
       "      <td>0</td>\n",
       "      <td>0</td>\n",
       "      <td>0</td>\n",
       "      <td>0</td>\n",
       "      <td>0</td>\n",
       "      <td>0</td>\n",
       "      <td>0</td>\n",
       "    </tr>\n",
       "  </tbody>\n",
       "</table>\n",
       "<p>5 rows × 22 columns</p>\n",
       "</div>"
      ],
      "text/plain": [
       "    FIP  Rdiff  1997  1998  1999  2000  2001  2002  2003  2004  ...   2007  \\\n",
       "0  4.83   32.4     1     0     0     0     0     0     0     0  ...      0   \n",
       "1  4.51   16.2     0     1     0     0     0     0     0     0  ...      0   \n",
       "2  4.94 -113.4     0     0     1     0     0     0     0     0  ...      0   \n",
       "3  5.46  -16.2     0     0     0     1     0     0     0     0  ...      0   \n",
       "4  4.48  -32.4     0     0     0     0     1     0     0     0  ...      0   \n",
       "\n",
       "   2008  2009  2010  2011  2012  2013  2014  2015  2016  \n",
       "0     0     0     0     0     0     0     0     0     0  \n",
       "1     0     0     0     0     0     0     0     0     0  \n",
       "2     0     0     0     0     0     0     0     0     0  \n",
       "3     0     0     0     0     0     0     0     0     0  \n",
       "4     0     0     0     0     0     0     0     0     0  \n",
       "\n",
       "[5 rows x 22 columns]"
      ]
     },
     "execution_count": 20,
     "metadata": {},
     "output_type": "execute_result"
    }
   ],
   "source": [
    "# Correct training dataframe to include only the variables that make the best model.\n",
    "training = training.drop([\"SO\",\"SOS\",\"WHIP\",\"ERA\"], axis=1)\n",
    "training.head()"
   ]
  },
  {
   "cell_type": "markdown",
   "metadata": {},
   "source": [
    "Predicting wins using our new model:"
   ]
  },
  {
   "cell_type": "code",
   "execution_count": 21,
   "metadata": {
    "collapsed": true
   },
   "outputs": [],
   "source": [
    "# in order to calcualte pythagorean expectation\n",
    "def calc_win_ratio(r, ra):\n",
    "    return (r**2) / (r**2 + ra**2)"
   ]
  },
  {
   "cell_type": "code",
   "execution_count": 22,
   "metadata": {
    "collapsed": true
   },
   "outputs": [],
   "source": [
    "df = pd.DataFrame()\n",
    "y_resids = []\n",
    "pythep_resids = []\n",
    "pred = pd.Series()\n",
    "y_test = pd.Series()\n",
    "\n",
    "# Simulate calculations 100 times so we can get long-run averages for residuals.\n",
    "for i in range(1,101):\n",
    "    # Randomly split data into training and test sets.\n",
    "    X_train, X_test, y_train, y_test = train_test_split(training, y, test_size=300)\n",
    "\n",
    "    model = LinearRegression()\n",
    "    model.fit(X_train, y_train)\n",
    "    \n",
    "    y_predicted = model.predict(X_test)\n",
    "    \n",
    "    y_resid = abs(y_test.values - y_predicted)\n",
    "    \n",
    "    ra_test = ra[X_test.index]\n",
    "    r_test = r[X_test.index]\n",
    "    \n",
    "    X_test = pd.DataFrame(X_test)\n",
    "    X_test[\"pythep\"] = calc_win_ratio(r_test, ra_test) * 162\n",
    "    X_test[\"year\"] = year[X_test.index]\n",
    "    \n",
    "    # Get one point from each year in the data set, so we can make a plot.\n",
    "    years = []\n",
    "    indicies = []\n",
    "    for i in X_test.index:\n",
    "        if X_test.loc[i, \"year\"] not in years:\n",
    "            years.append(X_test.loc[i, \"year\"])\n",
    "            indicies.append(i)\n",
    "            \n",
    "    years = list(set(years))\n",
    "    df = pd.DataFrame(X_test.loc[indicies])\n",
    "    df = df.sort_values(by=\"year\")\n",
    "    \n",
    "    pred = pd.Series(y_predicted, index=X_test.index)\n",
    "    \n",
    "    y_resids.append(abs(y_test[df.index] - pred[df.index]).sum())\n",
    "    pythep_resids.append(abs(y_test[df.index] - df[\"pythep\"]).sum())"
   ]
  },
  {
   "cell_type": "code",
   "execution_count": 23,
   "metadata": {
    "collapsed": false
   },
   "outputs": [
    {
     "data": {
      "text/plain": [
       "(70.152124003727124, 67.240972387475225)"
      ]
     },
     "execution_count": 23,
     "metadata": {},
     "output_type": "execute_result"
    }
   ],
   "source": [
    "np.mean(y_resids), np.mean(pythep_resids)"
   ]
  },
  {
   "cell_type": "code",
   "execution_count": 24,
   "metadata": {
    "collapsed": false,
    "scrolled": false
   },
   "outputs": [
    {
     "data": {
      "application/vnd.plotly.v1+json": {
       "data": [
        {
         "line": {
          "color": "rgb(0,0,0)"
         },
         "name": "Actual Wins",
         "type": "scatter",
         "x": [
          1996,
          1997,
          1998,
          1999,
          2000,
          2001,
          2002,
          2003,
          2004,
          2005,
          2006,
          2007,
          2008,
          2009,
          2010,
          2011,
          2012,
          2013,
          2014,
          2015,
          2016
         ],
         "y": [
          75,
          79,
          114,
          67,
          82,
          93,
          55,
          83,
          68,
          77,
          79,
          73,
          86,
          59,
          91,
          91,
          69,
          66,
          96,
          100,
          89
         ]
        },
        {
         "line": {
          "color": "rgb(0,0,255)"
         },
         "name": "Pythagorean Expectation",
         "type": "scatter",
         "x": [
          1996,
          1997,
          1998,
          1999,
          2000,
          2001,
          2002,
          2003,
          2004,
          2005,
          2006,
          2007,
          2008,
          2009,
          2010,
          2011,
          2012,
          2013,
          2014,
          2015,
          2016
         ],
         "y": [
          75.88930706220938,
          77.47992442135097,
          112.15384615384615,
          63.89412861136997,
          88.03018867924528,
          89.16100142479137,
          49.84615384615384,
          77.94448398576512,
          72.0276923076923,
          64.30613997423788,
          84.17524980784012,
          72.49723756906077,
          86.22037422037423,
          64.63973619126133,
          93.38823529411766,
          92.7905325443787,
          72.49723756906077,
          68.91796146674953,
          97.86575342465754,
          98.78048780487805,
          84.59822309970382
         ]
        },
        {
         "line": {
          "color": "rgb(255,0,0)"
         },
         "name": "Our Prediction",
         "type": "scatter",
         "x": [
          1996,
          1997,
          1998,
          1999,
          2000,
          2001,
          2002,
          2003,
          2004,
          2005,
          2006,
          2007,
          2008,
          2009,
          2010,
          2011,
          2012,
          2013,
          2014,
          2015,
          2016
         ],
         "y": [
          76.53227024281469,
          79.19399080680816,
          113.65577040257293,
          61.241032207798995,
          88.00249059034789,
          88.65165579642255,
          51.63041989194452,
          75.76535066118204,
          69.1624726639304,
          62.86370512629085,
          84.43416094614963,
          71.68898370218812,
          85.08302888246848,
          65.13804390838885,
          91.70883931013563,
          90.96375317132377,
          72.58583047971949,
          71.15384319673865,
          95.63819011799326,
          93.12988605161475,
          83.83424350898031
         ]
        }
       ],
       "layout": {
        "title": "Comparing Our Model to Pythagorean Expectation",
        "xaxis": {
         "title": "Year"
        },
        "yaxis": {
         "title": "Number of Wins"
        }
       }
      },
      "text/html": [
       "<div id=\"5cb18f58-c42b-46f3-934d-ed814b5da6c0\" style=\"height: 525px; width: 100%;\" class=\"plotly-graph-div\"></div><script type=\"text/javascript\">require([\"plotly\"], function(Plotly) { window.PLOTLYENV=window.PLOTLYENV || {};window.PLOTLYENV.BASE_URL=\"https://plot.ly\";Plotly.newPlot(\"5cb18f58-c42b-46f3-934d-ed814b5da6c0\", [{\"line\": {\"color\": \"rgb(0,0,0)\"}, \"name\": \"Actual Wins\", \"type\": \"scatter\", \"y\": [75, 79, 114, 67, 82, 93, 55, 83, 68, 77, 79, 73, 86, 59, 91, 91, 69, 66, 96, 100, 89], \"x\": [1996, 1997, 1998, 1999, 2000, 2001, 2002, 2003, 2004, 2005, 2006, 2007, 2008, 2009, 2010, 2011, 2012, 2013, 2014, 2015, 2016]}, {\"line\": {\"color\": \"rgb(0,0,255)\"}, \"name\": \"Pythagorean Expectation\", \"type\": \"scatter\", \"y\": [75.88930706220938, 77.47992442135097, 112.15384615384615, 63.89412861136997, 88.03018867924528, 89.16100142479137, 49.84615384615384, 77.94448398576512, 72.0276923076923, 64.30613997423788, 84.17524980784012, 72.49723756906077, 86.22037422037423, 64.63973619126133, 93.38823529411766, 92.7905325443787, 72.49723756906077, 68.91796146674953, 97.86575342465754, 98.78048780487805, 84.59822309970382], \"x\": [1996, 1997, 1998, 1999, 2000, 2001, 2002, 2003, 2004, 2005, 2006, 2007, 2008, 2009, 2010, 2011, 2012, 2013, 2014, 2015, 2016]}, {\"line\": {\"color\": \"rgb(255,0,0)\"}, \"name\": \"Our Prediction\", \"type\": \"scatter\", \"y\": [76.53227024281469, 79.19399080680816, 113.65577040257293, 61.241032207798995, 88.00249059034789, 88.65165579642255, 51.63041989194452, 75.76535066118204, 69.1624726639304, 62.86370512629085, 84.43416094614963, 71.68898370218812, 85.08302888246848, 65.13804390838885, 91.70883931013563, 90.96375317132377, 72.58583047971949, 71.15384319673865, 95.63819011799326, 93.12988605161475, 83.83424350898031], \"x\": [1996, 1997, 1998, 1999, 2000, 2001, 2002, 2003, 2004, 2005, 2006, 2007, 2008, 2009, 2010, 2011, 2012, 2013, 2014, 2015, 2016]}], {\"title\": \"Comparing Our Model to Pythagorean Expectation\", \"xaxis\": {\"title\": \"Year\"}, \"yaxis\": {\"title\": \"Number of Wins\"}}, {\"linkText\": \"Export to plot.ly\", \"showLink\": true})});</script>"
      ],
      "text/vnd.plotly.v1+html": [
       "<div id=\"5cb18f58-c42b-46f3-934d-ed814b5da6c0\" style=\"height: 525px; width: 100%;\" class=\"plotly-graph-div\"></div><script type=\"text/javascript\">require([\"plotly\"], function(Plotly) { window.PLOTLYENV=window.PLOTLYENV || {};window.PLOTLYENV.BASE_URL=\"https://plot.ly\";Plotly.newPlot(\"5cb18f58-c42b-46f3-934d-ed814b5da6c0\", [{\"line\": {\"color\": \"rgb(0,0,0)\"}, \"name\": \"Actual Wins\", \"type\": \"scatter\", \"y\": [75, 79, 114, 67, 82, 93, 55, 83, 68, 77, 79, 73, 86, 59, 91, 91, 69, 66, 96, 100, 89], \"x\": [1996, 1997, 1998, 1999, 2000, 2001, 2002, 2003, 2004, 2005, 2006, 2007, 2008, 2009, 2010, 2011, 2012, 2013, 2014, 2015, 2016]}, {\"line\": {\"color\": \"rgb(0,0,255)\"}, \"name\": \"Pythagorean Expectation\", \"type\": \"scatter\", \"y\": [75.88930706220938, 77.47992442135097, 112.15384615384615, 63.89412861136997, 88.03018867924528, 89.16100142479137, 49.84615384615384, 77.94448398576512, 72.0276923076923, 64.30613997423788, 84.17524980784012, 72.49723756906077, 86.22037422037423, 64.63973619126133, 93.38823529411766, 92.7905325443787, 72.49723756906077, 68.91796146674953, 97.86575342465754, 98.78048780487805, 84.59822309970382], \"x\": [1996, 1997, 1998, 1999, 2000, 2001, 2002, 2003, 2004, 2005, 2006, 2007, 2008, 2009, 2010, 2011, 2012, 2013, 2014, 2015, 2016]}, {\"line\": {\"color\": \"rgb(255,0,0)\"}, \"name\": \"Our Prediction\", \"type\": \"scatter\", \"y\": [76.53227024281469, 79.19399080680816, 113.65577040257293, 61.241032207798995, 88.00249059034789, 88.65165579642255, 51.63041989194452, 75.76535066118204, 69.1624726639304, 62.86370512629085, 84.43416094614963, 71.68898370218812, 85.08302888246848, 65.13804390838885, 91.70883931013563, 90.96375317132377, 72.58583047971949, 71.15384319673865, 95.63819011799326, 93.12988605161475, 83.83424350898031], \"x\": [1996, 1997, 1998, 1999, 2000, 2001, 2002, 2003, 2004, 2005, 2006, 2007, 2008, 2009, 2010, 2011, 2012, 2013, 2014, 2015, 2016]}], {\"title\": \"Comparing Our Model to Pythagorean Expectation\", \"xaxis\": {\"title\": \"Year\"}, \"yaxis\": {\"title\": \"Number of Wins\"}}, {\"linkText\": \"Export to plot.ly\", \"showLink\": true})});</script>"
      ]
     },
     "metadata": {},
     "output_type": "display_data"
    }
   ],
   "source": [
    "# Plotly: plot actual wins, Pythagorean Expectation predicted wins, and our predicted wins.\n",
    "trace0 = Scatter(\n",
    "    x = df['year'],\n",
    "    y = y_test[df.index],\n",
    "    name = \"Actual Wins\",\n",
    "    line = dict(\n",
    "        color = ('rgb(0,0,0)')\n",
    "    )\n",
    ")\n",
    "trace1 = Scatter(\n",
    "    x = df['year'],\n",
    "    y = df[\"pythep\"],\n",
    "    name = \"Pythagorean Expectation\",\n",
    "    line = dict(\n",
    "        color = ('rgb(0,0,255)')\n",
    "    )\n",
    ")\n",
    "trace2 = Scatter(\n",
    "    x = df['year'],\n",
    "    y = pred[df.index],\n",
    "    name = \"Our Prediction\",\n",
    "    line = dict(\n",
    "        color = ('rgb(255,0,0)')\n",
    "    )\n",
    ")\n",
    "\n",
    "traces = [trace0, trace1, trace2]\n",
    "\n",
    "layout = dict(\n",
    "    title = \"Comparing Our Model to Pythagorean Expectation\",\n",
    "    xaxis = dict(title = \"Year\"),\n",
    "    yaxis = dict(title = \"Number of Wins\")\n",
    ")\n",
    "\n",
    "fig = dict(data=traces, layout=layout)\n",
    "py.iplot(fig)"
   ]
  },
  {
   "cell_type": "markdown",
   "metadata": {
    "collapsed": true
   },
   "source": [
    "Our residual sizes are always very close to those that the Pythagorean Expectation produces. Machine learning does prove to be helpful for predicting baseball wins."
   ]
  }
 ],
 "metadata": {
  "kernelspec": {
   "display_name": "Python 3",
   "language": "python",
   "name": "python3"
  },
  "language_info": {
   "codemirror_mode": {
    "name": "ipython",
    "version": 3
   },
   "file_extension": ".py",
   "mimetype": "text/x-python",
   "name": "python",
   "nbconvert_exporter": "python",
   "pygments_lexer": "ipython3",
   "version": "3.5.2"
  }
 },
 "nbformat": 4,
 "nbformat_minor": 2
}
